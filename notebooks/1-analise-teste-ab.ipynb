{
 "cells": [
  {
   "cell_type": "markdown",
   "metadata": {
    "application/vnd.databricks.v1+cell": {
     "cellMetadata": {
      "byteLimit": 2048000,
      "rowLimit": 10000
     },
     "inputWidgets": {},
     "nuid": "b8673467-382a-4154-9e99-ced576699ba8",
     "showTitle": false,
     "tableResultSettingsMap": {},
     "title": ""
    }
   },
   "source": [
    "# Configuração do ambiente"
   ]
  },
  {
   "cell_type": "markdown",
   "metadata": {
    "application/vnd.databricks.v1+cell": {
     "cellMetadata": {
      "byteLimit": 2048000,
      "rowLimit": 10000
     },
     "inputWidgets": {},
     "nuid": "e9bae4da-bfc0-4c72-8248-3594acdf1d7f",
     "showTitle": false,
     "tableResultSettingsMap": {},
     "title": ""
    }
   },
   "source": [
    "## Import das bibliotecas"
   ]
  },
  {
   "cell_type": "code",
   "execution_count": 0,
   "metadata": {
    "application/vnd.databricks.v1+cell": {
     "cellMetadata": {
      "byteLimit": 2048000,
      "rowLimit": 10000
     },
     "inputWidgets": {},
     "nuid": "2fca7186-cdca-4a05-97bc-3c39f83044aa",
     "showTitle": false,
     "tableResultSettingsMap": {},
     "title": ""
    }
   },
   "outputs": [],
   "source": [
    "import os\n",
    "import pandas as pd\n",
    "import plotly.express as px\n",
    "import plotly.graph_objects as go\n",
    "import plotly.io as pio\n",
    "\n",
    "from pathlib import Path\n",
    "from pyspark.sql import SparkSession\n",
    "from pyspark.sql.functions import *\n",
    "from pyspark.sql.types import *\n",
    "from typing import Optional"
   ]
  },
  {
   "cell_type": "markdown",
   "metadata": {
    "application/vnd.databricks.v1+cell": {
     "cellMetadata": {
      "byteLimit": 2048000,
      "rowLimit": 10000
     },
     "inputWidgets": {},
     "nuid": "5959488d-7bcd-4fa8-830a-6e045ffaefbf",
     "showTitle": false,
     "tableResultSettingsMap": {},
     "title": ""
    }
   },
   "source": [
    "## Definição dos links e diretórios"
   ]
  },
  {
   "cell_type": "code",
   "execution_count": 0,
   "metadata": {
    "application/vnd.databricks.v1+cell": {
     "cellMetadata": {
      "byteLimit": 2048000,
      "rowLimit": 10000
     },
     "inputWidgets": {},
     "nuid": "1b574988-b8dd-42f7-aad5-dbdb40d9ecfd",
     "showTitle": false,
     "tableResultSettingsMap": {},
     "title": ""
    }
   },
   "outputs": [],
   "source": [
    "# Captura o diretório raiz do projeto\n",
    "dir_projeto = Path(os.getcwd()).parent.resolve()"
   ]
  },
  {
   "cell_type": "code",
   "execution_count": 0,
   "metadata": {
    "application/vnd.databricks.v1+cell": {
     "cellMetadata": {
      "byteLimit": 2048000,
      "rowLimit": 10000
     },
     "inputWidgets": {},
     "nuid": "dc3bf60b-6e24-4ef1-bad5-9b2d790fb623",
     "showTitle": false,
     "tableResultSettingsMap": {},
     "title": ""
    }
   },
   "outputs": [],
   "source": [
    "# Mapeia o diretório que está no Bucket S3 com os arquivos do projeto\n",
    "dir_s3_dados = r's3a://databricks-workspace-stack-edf2c-bucket/unity-catalog/3805457818561400/case-tecnico-analise-dados-ifood/dados'\n",
    "dir_s3_dados_brutos = f'{dir_s3_dados}/brutos'\n",
    "dir_s3_dados_processados = f'{dir_s3_dados}/processados'\n"
   ]
  },
  {
   "cell_type": "markdown",
   "metadata": {
    "application/vnd.databricks.v1+cell": {
     "cellMetadata": {
      "byteLimit": 2048000,
      "rowLimit": 10000
     },
     "inputWidgets": {},
     "nuid": "9fbd1e52-6564-4a05-9af4-fd7e6245021d",
     "showTitle": false,
     "tableResultSettingsMap": {},
     "title": ""
    }
   },
   "source": [
    "## Configurações do Plotly"
   ]
  },
  {
   "cell_type": "code",
   "execution_count": 0,
   "metadata": {
    "application/vnd.databricks.v1+cell": {
     "cellMetadata": {
      "byteLimit": 2048000,
      "rowLimit": 10000
     },
     "inputWidgets": {},
     "nuid": "412bcf99-bba3-47ec-bf2e-2cb5a399e730",
     "showTitle": false,
     "tableResultSettingsMap": {},
     "title": ""
    }
   },
   "outputs": [],
   "source": [
    "# Altera o tema e o formato de renderização dos gráficos do Plotly\n",
    "pio.templates.default = 'plotly_white'\n",
    "pio.renderers.default = 'vscode+pdf+png+jpeg'"
   ]
  },
  {
   "cell_type": "code",
   "execution_count": 0,
   "metadata": {
    "application/vnd.databricks.v1+cell": {
     "cellMetadata": {
      "byteLimit": 2048000,
      "rowLimit": 10000
     },
     "inputWidgets": {},
     "nuid": "ccbdc747-ffb7-4f58-8c87-993e5968607e",
     "showTitle": false,
     "tableResultSettingsMap": {},
     "title": ""
    }
   },
   "outputs": [],
   "source": [
    "# Função para plotar histogramas sobrepostos para comparação entre grupos\n",
    "def histogramas_sobrepostos(\n",
    "    df: pd.DataFrame,\n",
    "    variavel_numerica: str,\n",
    "    variavel_binaria: str,\n",
    "    coluna_frequencia: str,\n",
    "    valor_positivo: str,\n",
    "    valor_negativo: str,\n",
    "    titulo: Optional[str] = None,\n",
    "    subtitulo: Optional[str] = None,\n",
    "    titulo_eixo_x: Optional[str] = None,\n",
    "    titulo_eixo_y: Optional[str] = None,\n",
    "    nbinsx: int = 30\n",
    ") -> go.Figure:\n",
    "    \"\"\"\n",
    "    Gera histogramas sobrepostos com base em uma variável numérica e uma coluna de frequência,\n",
    "    segmentando os dados por uma variável binária.\n",
    "\n",
    "    Parâmetros\n",
    "    ----------\n",
    "    df : pd.DataFrame\n",
    "        DataFrame contendo as colunas de interesse.\n",
    "    variavel_numerica : str\n",
    "        Nome da variável numérica a ser plotada no eixo X.\n",
    "    variavel_binaria : str\n",
    "        Nome da variável categórica binária usada para segmentação.\n",
    "    coluna_frequencia : str\n",
    "        Nome da coluna que representa a frequência de cada linha.\n",
    "    valor_positivo : str\n",
    "        Valor considerado como \"1\" na variável binária (ex: \"target\").\n",
    "    valor_negativo : str\n",
    "        Valor considerado como \"0\" na variável binária (ex: \"control\").\n",
    "    titulo : str, opcional\n",
    "        Título do gráfico.\n",
    "    subtitulo : str, opcional\n",
    "        Subtítulo do gráfico.\n",
    "    titulo_eixo_x : str, opcional\n",
    "        Título do eixo X.\n",
    "    titulo_eixo_y : str, opcional\n",
    "        Título do eixo Y.\n",
    "    nbinsx : int, opcional\n",
    "        Número de bins no eixo X (padrão 30).\n",
    "\n",
    "    Retorno\n",
    "    -------\n",
    "    go.Figure\n",
    "        Gráfico com histogramas sobrepostos.\n",
    "    \"\"\"\n",
    "\n",
    "    # Separa os dados em dois grupos, com base na variável binária\n",
    "    grupo_positivo = df[df[variavel_binaria] == valor_positivo]\n",
    "    grupo_negativo = df[df[variavel_binaria] == valor_negativo]\n",
    "\n",
    "    # Cria a figura e adiciona os dois histogramas ponderados\n",
    "    fig = go.Figure()\n",
    "\n",
    "    fig.add_trace(\n",
    "        go.Histogram(\n",
    "            x=grupo_negativo[variavel_numerica],\n",
    "            y=grupo_negativo[coluna_frequencia],\n",
    "            name=valor_negativo,\n",
    "            nbinsx=nbinsx,\n",
    "            histfunc=\"sum\",\n",
    "            histnorm=\"probability\",\n",
    "            marker=dict(color='#000000')\n",
    "        )\n",
    "    )\n",
    "\n",
    "    fig.add_trace(\n",
    "        go.Histogram(\n",
    "            x=grupo_positivo[variavel_numerica],\n",
    "            y=grupo_positivo[coluna_frequencia],\n",
    "            name=valor_positivo,\n",
    "            nbinsx=nbinsx,\n",
    "            histfunc=\"sum\",\n",
    "            histnorm=\"probability\",\n",
    "            marker=dict(color='#EA1D2C')\n",
    "        )\n",
    "    )\n",
    "\n",
    "    # Layout e estilo\n",
    "    fig.update_layout(\n",
    "        barmode='overlay',\n",
    "        width=800,\n",
    "        height=550,\n",
    "        title=titulo,\n",
    "        # title_subtitle_text=subtitulo,\n",
    "        xaxis_title=titulo_eixo_x,\n",
    "        yaxis_title=titulo_eixo_y,\n",
    "        legend=dict(orientation=\"h\", yanchor=\"bottom\", y=0.99, xanchor=\"center\", x=0.5),\n",
    "        showlegend=True\n",
    "    )\n",
    "\n",
    "    fig.update_traces(opacity=0.65)\n",
    "    fig.update_xaxes(tickformat=',', showgrid=False)\n",
    "    fig.update_yaxes(tickformat=',.0%')\n",
    "\n",
    "    return fig\n"
   ]
  },
  {
   "cell_type": "markdown",
   "metadata": {
    "application/vnd.databricks.v1+cell": {
     "cellMetadata": {
      "byteLimit": 2048000,
      "rowLimit": 10000
     },
     "inputWidgets": {},
     "nuid": "b089a714-2e29-4996-bb85-298adf3422ea",
     "showTitle": false,
     "tableResultSettingsMap": {},
     "title": ""
    }
   },
   "source": [
    "# Dados"
   ]
  },
  {
   "cell_type": "markdown",
   "metadata": {
    "application/vnd.databricks.v1+cell": {
     "cellMetadata": {
      "byteLimit": 2048000,
      "rowLimit": 10000
     },
     "inputWidgets": {},
     "nuid": "817c2929-db5c-4ef3-90d3-e9382a162567",
     "showTitle": false,
     "tableResultSettingsMap": {},
     "title": ""
    }
   },
   "source": [
    "## Download"
   ]
  },
  {
   "cell_type": "markdown",
   "metadata": {
    "application/vnd.databricks.v1+cell": {
     "cellMetadata": {
      "byteLimit": 2048000,
      "rowLimit": 10000
     },
     "inputWidgets": {},
     "nuid": "568302b0-b562-4215-b324-24979f9f46f9",
     "showTitle": false,
     "tableResultSettingsMap": {},
     "title": ""
    }
   },
   "source": [
    "### Pedidos"
   ]
  },
  {
   "cell_type": "code",
   "execution_count": 0,
   "metadata": {
    "application/vnd.databricks.v1+cell": {
     "cellMetadata": {
      "byteLimit": 2048000,
      "rowLimit": 10000
     },
     "inputWidgets": {},
     "nuid": "fa145e31-f997-4ca5-a08e-3184b65cd33c",
     "showTitle": false,
     "tableResultSettingsMap": {},
     "title": ""
    }
   },
   "outputs": [],
   "source": [
    "# Lê o arquivo .parquet do diretório de dados processados\n",
    "pedidos = spark.read.parquet(f\"{dir_s3_dados_processados}/pedidos\")\n",
    "\n",
    "display(pedidos.limit(100))"
   ]
  },
  {
   "cell_type": "markdown",
   "metadata": {
    "application/vnd.databricks.v1+cell": {
     "cellMetadata": {},
     "inputWidgets": {},
     "nuid": "55e42f18-3275-4e94-b7db-635cff4893e1",
     "showTitle": false,
     "tableResultSettingsMap": {},
     "title": ""
    }
   },
   "source": [
    "#### Pedidos por estado"
   ]
  },
  {
   "cell_type": "code",
   "execution_count": 0,
   "metadata": {
    "application/vnd.databricks.v1+cell": {
     "cellMetadata": {
      "byteLimit": 2048000,
      "rowLimit": 10000
     },
     "inputWidgets": {},
     "nuid": "a30b9ee1-6590-4c09-b595-ff446548edbf",
     "showTitle": false,
     "tableResultSettingsMap": {},
     "title": ""
    }
   },
   "outputs": [],
   "source": [
    "display(\n",
    "    pedidos.groupBy(\"origin_platform\") \\\n",
    "    .agg(count(\"order_id\").alias(\"quantidade_pedidos\")) \\\n",
    "    .orderBy(\"quantidade_pedidos\", ascending=False) \\\n",
    ")"
   ]
  },
  {
   "cell_type": "markdown",
   "metadata": {
    "application/vnd.databricks.v1+cell": {
     "cellMetadata": {},
     "inputWidgets": {},
     "nuid": "730313b4-a311-4f67-b9b2-fb5622218d0a",
     "showTitle": false,
     "tableResultSettingsMap": {},
     "title": ""
    }
   },
   "source": [
    "#### Pedidos por plataforma"
   ]
  },
  {
   "cell_type": "code",
   "execution_count": 0,
   "metadata": {
    "application/vnd.databricks.v1+cell": {
     "cellMetadata": {
      "byteLimit": 2048000,
      "rowLimit": 10000
     },
     "inputWidgets": {},
     "nuid": "1e5b46f1-66e5-49e8-8160-33a21aa6bf8f",
     "showTitle": false,
     "tableResultSettingsMap": {},
     "title": ""
    }
   },
   "outputs": [],
   "source": [
    "display(\n",
    "    pedidos.groupBy(\"order_scheduled\") \\\n",
    "    .agg(count(\"order_id\").alias(\"quantidade_pedidos\")) \\\n",
    "    .orderBy(\"quantidade_pedidos\", ascending=False) \\\n",
    ")"
   ]
  },
  {
   "cell_type": "markdown",
   "metadata": {
    "application/vnd.databricks.v1+cell": {
     "cellMetadata": {},
     "inputWidgets": {},
     "nuid": "15373832-4ccb-4b0b-9891-a85b44d78493",
     "showTitle": false,
     "tableResultSettingsMap": {},
     "title": ""
    }
   },
   "source": [
    "#### Pedidos agendados"
   ]
  },
  {
   "cell_type": "code",
   "execution_count": 0,
   "metadata": {
    "application/vnd.databricks.v1+cell": {
     "cellMetadata": {},
     "inputWidgets": {},
     "nuid": "e2e62ec0-8734-40f3-b0ea-d932ebbad14c",
     "showTitle": false,
     "tableResultSettingsMap": {},
     "title": ""
    }
   },
   "outputs": [],
   "source": [
    "display(\n",
    "    pedidos.groupBy(\"delivery_address_state\") \\\n",
    "    .agg(count(\"order_id\").alias(\"quantidade_pedidos\")) \\\n",
    "    .orderBy(\"quantidade_pedidos\", ascending=False) \\\n",
    ")"
   ]
  },
  {
   "cell_type": "markdown",
   "metadata": {
    "application/vnd.databricks.v1+cell": {
     "cellMetadata": {
      "byteLimit": 2048000,
      "rowLimit": 10000
     },
     "inputWidgets": {},
     "nuid": "60ebe2aa-7d25-40e9-9dda-d083c2200c3e",
     "showTitle": false,
     "tableResultSettingsMap": {},
     "title": ""
    }
   },
   "source": [
    "### Usuários"
   ]
  },
  {
   "cell_type": "code",
   "execution_count": 0,
   "metadata": {
    "application/vnd.databricks.v1+cell": {
     "cellMetadata": {
      "byteLimit": 2048000,
      "rowLimit": 10000
     },
     "inputWidgets": {},
     "nuid": "b9da1b9f-7c1e-470a-a627-78797f73c57b",
     "showTitle": false,
     "tableResultSettingsMap": {},
     "title": ""
    }
   },
   "outputs": [],
   "source": [
    "# Lê o arquivo .parquet do diretório de dados processados\n",
    "usuarios = spark.read.parquet(f\"{dir_s3_dados_processados}/usuarios\")\n",
    "\n",
    "display(usuarios.limit(100))"
   ]
  },
  {
   "cell_type": "markdown",
   "metadata": {
    "application/vnd.databricks.v1+cell": {
     "cellMetadata": {},
     "inputWidgets": {},
     "nuid": "24bbf140-0469-4d3b-a823-d52ca2dc0c88",
     "showTitle": false,
     "tableResultSettingsMap": {},
     "title": ""
    }
   },
   "source": [
    "#### Idiomas dos usuários"
   ]
  },
  {
   "cell_type": "code",
   "execution_count": 0,
   "metadata": {
    "application/vnd.databricks.v1+cell": {
     "cellMetadata": {
      "byteLimit": 2048000,
      "rowLimit": 10000
     },
     "inputWidgets": {},
     "nuid": "b61fe05b-ce71-46f0-b01b-3c123949995c",
     "showTitle": false,
     "tableResultSettingsMap": {},
     "title": ""
    }
   },
   "outputs": [],
   "source": [
    "display(\n",
    "    usuarios\n",
    "    .groupBy(\"language\") \\\n",
    "    .agg(count(\"customer_id\") \\\n",
    "    .alias(\"quantidade_usuarios\")) \\\n",
    "    .orderBy(\"quantidade_usuarios\", ascending=False) \\\n",
    ")\n"
   ]
  },
  {
   "cell_type": "markdown",
   "metadata": {
    "application/vnd.databricks.v1+cell": {
     "cellMetadata": {
      "byteLimit": 2048000,
      "rowLimit": 10000
     },
     "inputWidgets": {},
     "nuid": "6cb5edf5-6bea-495d-ad42-660213be19d7",
     "showTitle": false,
     "tableResultSettingsMap": {},
     "title": ""
    }
   },
   "source": [
    "### Restaurantes"
   ]
  },
  {
   "cell_type": "code",
   "execution_count": 0,
   "metadata": {
    "application/vnd.databricks.v1+cell": {
     "cellMetadata": {
      "byteLimit": 2048000,
      "rowLimit": 10000
     },
     "inputWidgets": {},
     "nuid": "b0fce4fd-fb42-4651-b1d6-2b2379a5f0ab",
     "showTitle": false,
     "tableResultSettingsMap": {},
     "title": ""
    }
   },
   "outputs": [],
   "source": [
    "# Lê o arquivo .parquet do diretório de dados processados\n",
    "restaurantes = spark.read.parquet(f\"{dir_s3_dados_processados}/restaurantes\")\n",
    "\n",
    "display(restaurantes.limit(100))"
   ]
  },
  {
   "cell_type": "markdown",
   "metadata": {
    "application/vnd.databricks.v1+cell": {
     "cellMetadata": {
      "byteLimit": 2048000,
      "rowLimit": 10000
     },
     "inputWidgets": {},
     "nuid": "15575ac3-7462-444e-80d2-5918a54df9c7",
     "showTitle": false,
     "tableResultSettingsMap": {},
     "title": ""
    }
   },
   "source": [
    "### Usuários teste A/B"
   ]
  },
  {
   "cell_type": "code",
   "execution_count": 0,
   "metadata": {
    "application/vnd.databricks.v1+cell": {
     "cellMetadata": {
      "byteLimit": 2048000,
      "rowLimit": 10000
     },
     "inputWidgets": {},
     "nuid": "cd85ff48-ab9b-42ef-a2ed-6529c544b057",
     "showTitle": false,
     "tableResultSettingsMap": {},
     "title": ""
    }
   },
   "outputs": [],
   "source": [
    "# Lê o arquivo .parquet do diretório de dados processados\n",
    "usuarios_teste_ab = spark.read.parquet(f\"{dir_s3_dados_processados}/usuarios_teste_ab\")\n",
    "\n",
    "display(usuarios_teste_ab.limit(100))"
   ]
  },
  {
   "cell_type": "markdown",
   "metadata": {
    "application/vnd.databricks.v1+cell": {
     "cellMetadata": {
      "byteLimit": 2048000,
      "rowLimit": 10000
     },
     "inputWidgets": {},
     "nuid": "89ef3ffe-23d6-46cc-93cf-5ecde2313828",
     "showTitle": false,
     "tableResultSettingsMap": {},
     "title": ""
    }
   },
   "source": [
    "## Registro de views temporárias"
   ]
  },
  {
   "cell_type": "code",
   "execution_count": 0,
   "metadata": {
    "application/vnd.databricks.v1+cell": {
     "cellMetadata": {
      "byteLimit": 2048000,
      "rowLimit": 10000
     },
     "inputWidgets": {},
     "nuid": "80253154-c565-45d9-ae4b-a82bda64b39c",
     "showTitle": false,
     "tableResultSettingsMap": {},
     "title": ""
    }
   },
   "outputs": [],
   "source": [
    "# Registro de views para uso posterior no spark SQL\n",
    "pedidos.createOrReplaceTempView(\"vw_pedidos\")\n",
    "usuarios.createOrReplaceTempView(\"vw_usuarios\")\n",
    "restaurantes.createOrReplaceTempView(\"vw_restaurantes\")\n",
    "usuarios_teste_ab.createOrReplaceTempView(\"vw_usuarios_teste_ab\")"
   ]
  },
  {
   "cell_type": "markdown",
   "metadata": {
    "application/vnd.databricks.v1+cell": {
     "cellMetadata": {},
     "inputWidgets": {},
     "nuid": "f6c9e17c-d35d-476d-a8c9-4473e5061433",
     "showTitle": false,
     "tableResultSettingsMap": {},
     "title": ""
    }
   },
   "source": [
    "-----"
   ]
  },
  {
   "cell_type": "markdown",
   "metadata": {
    "application/vnd.databricks.v1+cell": {
     "cellMetadata": {
      "byteLimit": 2048000,
      "rowLimit": 10000
     },
     "inputWidgets": {},
     "nuid": "6460c7e4-5554-45fa-9da5-c54a905ea81a",
     "showTitle": false,
     "tableResultSettingsMap": {},
     "title": ""
    }
   },
   "source": [
    "# Análise"
   ]
  },
  {
   "cell_type": "markdown",
   "metadata": {
    "application/vnd.databricks.v1+cell": {
     "cellMetadata": {
      "byteLimit": 2048000,
      "rowLimit": 10000
     },
     "inputWidgets": {},
     "nuid": "1b8ae1fc-e202-4367-9c71-a6a553b2c5b3",
     "showTitle": false,
     "tableResultSettingsMap": {},
     "title": ""
    }
   },
   "source": [
    "1. No iFood, várias áreas utilizam testes A/B para avaliar o impacto de ações em diferentes métricas. Esses testes permitem validar hipóteses de crescimento e a viabilidade de novas funcionalidades em um grupo restrito de usuários. Nos dados fornecidos nesse case você encontrará uma marcação de usuários, separando-os entre grupo teste e controle de uma **campanha de cupons, que disponibilizou para os usuários do grupo teste um cupom especial**.\n",
    "\n",
    "    a) **Defina os indicadores** relevantes para mensurar o sucesso da campanha e analise se ela teve impacto significativo dentro do período avaliado.\n",
    "\n",
    "    b) Faça uma **análise de viabilidade financeira** dessa iniciativa como alavanca de crescimento, adotando as premissas que julgar necessárias (explicite as premissas adotadas). \n",
    "\n",
    "    c) **Recomende oportunidades de melhoria** nessa ação e **desenhe uma nova proposta de teste A/B** para validar essas hipóteses."
   ]
  },
  {
   "cell_type": "markdown",
   "metadata": {
    "application/vnd.databricks.v1+cell": {
     "cellMetadata": {
      "byteLimit": 2048000,
      "rowLimit": 10000
     },
     "inputWidgets": {},
     "nuid": "092e18a5-cf61-4005-9002-866d444e0082",
     "showTitle": false,
     "tableResultSettingsMap": {},
     "title": ""
    }
   },
   "source": [
    "## a) **Defina os indicadores** relevantes para mensurar o sucesso da campanha e analise se ela teve impacto significativo dentro do período avaliado."
   ]
  },
  {
   "cell_type": "markdown",
   "metadata": {
    "application/vnd.databricks.v1+cell": {
     "cellMetadata": {
      "byteLimit": 2048000,
      "rowLimit": 10000
     },
     "inputWidgets": {},
     "nuid": "23e8a724-4be5-40ae-85b9-03c4d132975a",
     "showTitle": false,
     "tableResultSettingsMap": {},
     "title": ""
    }
   },
   "source": [
    "### Retenção de clientes"
   ]
  },
  {
   "cell_type": "markdown",
   "metadata": {
    "application/vnd.databricks.v1+cell": {
     "cellMetadata": {
      "byteLimit": 2048000,
      "rowLimit": 10000
     },
     "inputWidgets": {},
     "nuid": "aa91a654-aa1d-4171-bfee-c5e6f37dfe39",
     "showTitle": false,
     "tableResultSettingsMap": {},
     "title": ""
    }
   },
   "source": [
    "Quantos % dos usuários fizeram um novo pedido após o primeiro pedido com o cupom?"
   ]
  },
  {
   "cell_type": "code",
   "execution_count": 0,
   "metadata": {
    "application/vnd.databricks.v1+cell": {
     "cellMetadata": {
      "byteLimit": 2048000,
      "rowLimit": 10000
     },
     "inputWidgets": {},
     "nuid": "241d3281-91ad-47f0-be71-192a56cbbdf1",
     "showTitle": false,
     "tableResultSettingsMap": {},
     "title": ""
    }
   },
   "outputs": [],
   "source": [
    "# Verificação do período dos dados de pedidos\n",
    "datas = pedidos.agg(\n",
    "    min(\"order_created_at\").alias(\"data_inicio\"),\n",
    "    max(\"order_created_at\").alias(\"data_fim\")\n",
    ").first()\n",
    "\n",
    "data_inicio_pedidos = datas[\"data_inicio\"]\n",
    "data_fim_pedidos = datas[\"data_fim\"]\n",
    "\n",
    "print(f\"Data de início dos pedidos: {data_inicio_pedidos}\")\n",
    "print(f\"Data de fim dos pedidos: {data_fim_pedidos}\")"
   ]
  },
  {
   "cell_type": "code",
   "execution_count": 0,
   "metadata": {
    "application/vnd.databricks.v1+cell": {
     "cellMetadata": {
      "byteLimit": 2048000,
      "rowLimit": 10000
     },
     "inputWidgets": {},
     "nuid": "7c50bd55-0544-482f-b97c-17f7cffa0599",
     "showTitle": false,
     "tableResultSettingsMap": {},
     "title": ""
    }
   },
   "outputs": [],
   "source": [
    "# Verificação do período do cadastro de novos usuários\n",
    "datas = usuarios.agg(\n",
    "    min(\"created_at\").alias(\"data_inicio\"),\n",
    "    max(\"created_at\").alias(\"data_fim\")\n",
    ").first()\n",
    "\n",
    "data_inicio_usuarios = datas[\"data_inicio\"]\n",
    "data_fim_usuarios = datas[\"data_fim\"]\n",
    "\n",
    "print(f\"Data de início de cadastro de novos usuários: {data_inicio_usuarios}\")\n",
    "print(f\"Data de fim de cadastro de novos usuários: {data_fim_usuarios}\")"
   ]
  },
  {
   "cell_type": "markdown",
   "metadata": {
    "application/vnd.databricks.v1+cell": {
     "cellMetadata": {
      "byteLimit": 2048000,
      "rowLimit": 10000
     },
     "inputWidgets": {},
     "nuid": "a3cebaf7-caa3-4278-9316-7d559280b385",
     "showTitle": false,
     "tableResultSettingsMap": {},
     "title": ""
    }
   },
   "source": [
    "Tanto os usuários do grupo de tratamento quanto do grupo controle tiveram seu cadastro feito há mais de 6 meses antes do início da ação, então não é possível analizar uma métrica de 'atração de novos clientes' e também não é necessário se preocupar com intervalos de tempo diferentes de participação na campanha (todos participaram os 2 meses)."
   ]
  },
  {
   "cell_type": "code",
   "execution_count": 0,
   "metadata": {
    "application/vnd.databricks.v1+cell": {
     "cellMetadata": {
      "byteLimit": 2048000,
      "rowLimit": 10000
     },
     "inputWidgets": {},
     "nuid": "60ec9c2b-4eb9-42e5-bb56-1a15267b4154",
     "showTitle": false,
     "tableResultSettingsMap": {},
     "title": ""
    }
   },
   "outputs": [],
   "source": [
    "query_retencao = \"\"\"\n",
    "WITH usuarios_classificados AS (\n",
    "    SELECT\n",
    "        p.customer_id,\n",
    "        ab.is_target,\n",
    "        COUNT(DISTINCT p.order_id) AS quantidade_pedidos,\n",
    "        CASE\n",
    "            WHEN COUNT(DISTINCT p.order_id) > 1 THEN 1\n",
    "            ELSE 0\n",
    "        END AS retido\n",
    "    FROM\n",
    "        vw_pedidos AS p\n",
    "    JOIN\n",
    "        vw_usuarios_teste_ab AS ab ON\n",
    "            p.customer_id = ab.customer_id\n",
    "    GROUP BY\n",
    "        p.customer_id,\n",
    "        ab.is_target\n",
    ")\n",
    "\n",
    "SELECT\n",
    "    is_target,\n",
    "    retido,\n",
    "    quantidade_pedidos,\n",
    "    COUNT(*) AS total_usuarios\n",
    "FROM\n",
    "    usuarios_classificados\n",
    "GROUP BY\n",
    "    is_target,\n",
    "    retido,\n",
    "    quantidade_pedidos\n",
    "\"\"\"\n",
    "\n",
    "info_retencao = spark.sql(query_retencao).toPandas()\n",
    "\n",
    "info_retencao.head()"
   ]
  },
  {
   "cell_type": "code",
   "execution_count": 0,
   "metadata": {
    "application/vnd.databricks.v1+cell": {
     "cellMetadata": {
      "byteLimit": 2048000,
      "rowLimit": 10000
     },
     "inputWidgets": {},
     "nuid": "51bf2139-6d06-4341-832a-16e3a7139618",
     "showTitle": false,
     "tableResultSettingsMap": {},
     "title": ""
    }
   },
   "outputs": [],
   "source": [
    "# Quantos % dos usuários foram retidos em cada um dos grupos do teste?\n",
    "# Agrupa por grupo do teste e se foi retido ou não\n",
    "resumo_retencao = info_retencao.groupby(['is_target', 'retido'])['total_usuarios'].sum().unstack(fill_value=0)\n",
    "\n",
    "# Renomeia colunas\n",
    "resumo_retencao.rename(columns = {0: 'usuarios_nao_retidos', 1: 'usuarios_retidos'}, inplace=True)\n",
    "\n",
    "# Calcula totais e porcentagem\n",
    "resumo_retencao['usuarios_totais'] = resumo_retencao['usuarios_retidos'] + resumo_retencao['usuarios_nao_retidos']\n",
    "resumo_retencao['porcentagem_retencao'] = (resumo_retencao['usuarios_retidos'] / resumo_retencao['usuarios_totais']) * 100\n",
    "\n",
    "# Formata como tabela final\n",
    "resumo_retencao = resumo_retencao.reset_index()\n",
    "\n",
    "display(resumo_retencao)"
   ]
  },
  {
   "cell_type": "markdown",
   "metadata": {
    "application/vnd.databricks.v1+cell": {
     "cellMetadata": {
      "byteLimit": 2048000,
      "rowLimit": 10000
     },
     "inputWidgets": {},
     "nuid": "bbd3580d-6e4c-4766-a5b6-3a8141d9bdd2",
     "showTitle": false,
     "tableResultSettingsMap": {},
     "title": ""
    }
   },
   "source": [
    "Vemos que os usuários do **grupo target possuem 10 p.p. a mais de retenção** do que o grupo controle.\n",
    "\n",
    "Enquanto o primeiro grupo apresentam uma taxa de retenção de 57,6%, o grupo controle possui uma taxa de 47,6%."
   ]
  },
  {
   "cell_type": "markdown",
   "metadata": {
    "application/vnd.databricks.v1+cell": {
     "cellMetadata": {
      "byteLimit": 2048000,
      "rowLimit": 10000
     },
     "inputWidgets": {},
     "nuid": "743ce1e2-3628-4dfc-91f7-8afe22ffd7fc",
     "showTitle": false,
     "tableResultSettingsMap": {},
     "title": ""
    }
   },
   "source": [
    "### Média de pedidos por usuário"
   ]
  },
  {
   "cell_type": "markdown",
   "metadata": {
    "application/vnd.databricks.v1+cell": {
     "cellMetadata": {
      "byteLimit": 2048000,
      "rowLimit": 10000
     },
     "inputWidgets": {},
     "nuid": "068a5875-f101-4c97-b4e4-53e6764722a0",
     "showTitle": false,
     "tableResultSettingsMap": {},
     "title": ""
    }
   },
   "source": [
    "Nesse período, os usuários fizeram quantos pedidos em média na plataforma?"
   ]
  },
  {
   "cell_type": "code",
   "execution_count": 0,
   "metadata": {
    "application/vnd.databricks.v1+cell": {
     "cellMetadata": {
      "byteLimit": 2048000,
      "rowLimit": 10000
     },
     "inputWidgets": {},
     "nuid": "1622545b-c820-4137-9961-011650dc5ec5",
     "showTitle": false,
     "tableResultSettingsMap": {},
     "title": ""
    }
   },
   "outputs": [],
   "source": [
    "# Calcula o total de pedidos e total de usuários por grupo\n",
    "resumo_pedidos_medios = info_retencao.groupby(\"is_target\").apply(\n",
    "    lambda df: pd.Series({\n",
    "        \"total_pedidos\": (df[\"quantidade_pedidos\"] * df[\"total_usuarios\"]).sum(),\n",
    "        \"total_usuarios\": df[\"total_usuarios\"].sum()\n",
    "    })\n",
    ")\n",
    "\n",
    "# Calcula a média de pedidos por usuário\n",
    "resumo_pedidos_medios[\"media_pedidos_por_usuario\"] = resumo_pedidos_medios[\"total_pedidos\"] / resumo_pedidos_medios[\"total_usuarios\"]\n",
    "\n",
    "resumo_pedidos_medios = resumo_pedidos_medios.reset_index()\n",
    "\n",
    "display(resumo_pedidos_medios)"
   ]
  },
  {
   "cell_type": "markdown",
   "metadata": {
    "application/vnd.databricks.v1+cell": {
     "cellMetadata": {
      "byteLimit": 2048000,
      "rowLimit": 10000
     },
     "inputWidgets": {},
     "nuid": "6f338bfb-9373-4044-8108-d0e27a4890ea",
     "showTitle": false,
     "tableResultSettingsMap": {},
     "title": ""
    }
   },
   "source": [
    "Analisando a métrica de média de pedidos por usuário dentro dessa janela de 2 meses é possível ver um desempenho melhor do grupo target (com 3,2 pedidos/pessoa) em comparação ao desempenho do grupo controle (2,8 pedidos/pessoa). Isso representa um aumento de 13,3%!\n",
    "\n",
    "Mas como são distribuídos essa quantidade de pedidos por usuário entre os dois grupos do teste A/B?"
   ]
  },
  {
   "cell_type": "code",
   "execution_count": 0,
   "metadata": {
    "application/vnd.databricks.v1+cell": {
     "cellMetadata": {
      "byteLimit": 2048000,
      "rowLimit": 10000
     },
     "inputWidgets": {},
     "nuid": "cf2f5c6b-c863-408d-a98d-baf48df08ed7",
     "showTitle": false,
     "tableResultSettingsMap": {},
     "title": ""
    }
   },
   "outputs": [],
   "source": [
    "# Verificação da proporção de usuários com muitos pedidos para não usar no histograma\n",
    "limiar_pedidos = 20\n",
    "usuarios_mais_pedidos = info_retencao[info_retencao['quantidade_pedidos'] > limiar_pedidos]['total_usuarios'].sum()\n",
    "\n",
    "# Total geral de usuários\n",
    "usuarios_total = info_retencao['total_usuarios'].sum()\n",
    "\n",
    "# Porcentagem\n",
    "porcentagem_mais_pedidos = (usuarios_mais_pedidos / usuarios_total) * 100\n",
    "\n",
    "print(f\"{porcentagem_mais_pedidos:.2f}% dos usuários fizeram mais de {limiar_pedidos} pedidos.\")"
   ]
  },
  {
   "cell_type": "markdown",
   "metadata": {
    "application/vnd.databricks.v1+cell": {
     "cellMetadata": {
      "byteLimit": 2048000,
      "rowLimit": 10000
     },
     "inputWidgets": {},
     "nuid": "70aa6074-10d6-43b0-8890-459eaa01ad9b",
     "showTitle": false,
     "tableResultSettingsMap": {},
     "title": ""
    }
   },
   "source": [
    "Como a proproção de colaboradores que fizeram mais de 20 pedidos nesse período de 2 meses é menor do que 1%, eles serão desconsiderados dos dados usados para montar o histograma abaixo."
   ]
  },
  {
   "cell_type": "code",
   "execution_count": 0,
   "metadata": {
    "application/vnd.databricks.v1+cell": {
     "cellMetadata": {
      "byteLimit": 2048000,
      "rowLimit": 10000
     },
     "inputWidgets": {},
     "nuid": "a09e30b7-207e-4932-bf58-d0b1c50f1d41",
     "showTitle": false,
     "tableResultSettingsMap": {},
     "title": ""
    }
   },
   "outputs": [],
   "source": [
    "# Como estão distribuídos os usuários por grupo do teste e por quantidade de pedidos no período?\n",
    "fig = histogramas_sobrepostos(\n",
    "    df=info_retencao.query(\"quantidade_pedidos <= 20\"), # Descarta os outliers para melhor visualização do histograma\n",
    "    variavel_numerica=\"quantidade_pedidos\",\n",
    "    variavel_binaria=\"is_target\",\n",
    "    coluna_frequencia=\"total_usuarios\",\n",
    "    valor_positivo=\"target\",\n",
    "    valor_negativo=\"control\",\n",
    "    titulo=\"Distribuição de pedidos por grupo\",\n",
    "    titulo_eixo_x=\"Quantidade de pedidos\",\n",
    "    titulo_eixo_y=\"Proporção de usuários\",\n",
    ")\n",
    "\n",
    "fig.show()"
   ]
  },
  {
   "cell_type": "markdown",
   "metadata": {
    "application/vnd.databricks.v1+cell": {
     "cellMetadata": {
      "byteLimit": 2048000,
      "rowLimit": 10000
     },
     "inputWidgets": {},
     "nuid": "ac77cb91-674b-42ae-88ef-44be57618fea",
     "showTitle": false,
     "tableResultSettingsMap": {},
     "title": ""
    }
   },
   "source": [
    "Apesar dos dois grupos terem distribuições assimétricas positivas, é possível perceber um deslocamento maior da curva de usuários do grupo target para a direita, confirmando a maior média de pedidos por usuário."
   ]
  },
  {
   "cell_type": "markdown",
   "metadata": {
    "application/vnd.databricks.v1+cell": {
     "cellMetadata": {
      "byteLimit": 2048000,
      "rowLimit": 10000
     },
     "inputWidgets": {},
     "nuid": "60b5ad15-8b16-459a-ad2d-df30f22fd7d9",
     "showTitle": false,
     "tableResultSettingsMap": {},
     "title": ""
    }
   },
   "source": [
    "### Ticket médio por pedido e por usuário"
   ]
  },
  {
   "cell_type": "markdown",
   "metadata": {
    "application/vnd.databricks.v1+cell": {
     "cellMetadata": {
      "byteLimit": 2048000,
      "rowLimit": 10000
     },
     "inputWidgets": {},
     "nuid": "a85e70da-f45e-4f53-8ed2-dd512df8efa8",
     "showTitle": false,
     "tableResultSettingsMap": {},
     "title": ""
    }
   },
   "source": [
    "Qual foi o gasto médio a cada pedido feito? E quanto foi gasto em média por cada usuário?"
   ]
  },
  {
   "cell_type": "code",
   "execution_count": 0,
   "metadata": {
    "application/vnd.databricks.v1+cell": {
     "cellMetadata": {
      "byteLimit": 2048000,
      "rowLimit": 10000
     },
     "inputWidgets": {},
     "nuid": "bc6ef720-907b-4257-8658-4f484863defa",
     "showTitle": false,
     "tableResultSettingsMap": {},
     "title": ""
    }
   },
   "outputs": [],
   "source": [
    "query_ticket_medio = \"\"\"\n",
    "WITH pedidos_com_info AS (\n",
    "    SELECT\n",
    "        p.customer_id,\n",
    "        ab.is_target,\n",
    "        p.order_id,\n",
    "        p.order_total_amount\n",
    "    FROM\n",
    "        vw_pedidos AS p\n",
    "    JOIN\n",
    "        vw_usuarios_teste_ab AS ab ON\n",
    "          p.customer_id = ab.customer_id\n",
    "),\n",
    "\n",
    "metricas_agrupadas AS (\n",
    "    SELECT\n",
    "        is_target,\n",
    "        customer_id,\n",
    "        COUNT(order_id) AS quantidade_pedidos,\n",
    "        SUM(order_total_amount) AS valor_total\n",
    "    FROM\n",
    "        pedidos_com_info\n",
    "    GROUP BY\n",
    "        is_target,\n",
    "        customer_id\n",
    ")\n",
    "\n",
    "SELECT\n",
    "    is_target,\n",
    "    SUM(valor_total) AS valor_total_pedidos,\n",
    "    SUM(quantidade_pedidos) AS quantidade_total_pedidos,\n",
    "    COUNT(*) AS quantidade_total_usuarios,\n",
    "    ROUND(SUM(valor_total) / COUNT(*), 2) AS ticket_medio_por_usuario,\n",
    "    ROUND(SUM(valor_total) / SUM(quantidade_pedidos), 2) AS ticket_medio_por_pedido\n",
    "FROM\n",
    "    metricas_agrupadas\n",
    "GROUP BY\n",
    "  is_target\n",
    "\"\"\"\n",
    "\n",
    "ticket_medio = spark.sql(query_ticket_medio).toPandas()\n",
    "\n",
    "display(ticket_medio)"
   ]
  },
  {
   "cell_type": "markdown",
   "metadata": {
    "application/vnd.databricks.v1+cell": {
     "cellMetadata": {
      "byteLimit": 2048000,
      "rowLimit": 10000
     },
     "inputWidgets": {},
     "nuid": "06a61bcb-1236-4a73-a04a-a5934e1f2198",
     "showTitle": false,
     "tableResultSettingsMap": {},
     "title": ""
    }
   },
   "source": [
    "Analisando a métrica de ticket médio por usuário, o grupo target obteve o valor de R$ 228,76, enquanto o grupo controle obteve R$ 202,67, mostrando que em média há um faturamento maior com os usuários que receberam o cupom de desconto.\n",
    "\n",
    "Já olhando o ticket médio por pedido, os usuários que não receberam o cupom gastaram em média R$ 47,90 a cada compra, R$ 0,16 a mais do que a média gasta por pedido do que o público que recebeu os cupons (R$ 47,74). Entretanto, é importante destacar que os valores foram muito próximos mesmo com o desconto oferecido pelo Ifood, indicando um consumo maior desse público e resultando em um LTV (valor de vida útil do cliente) potencialmente maior."
   ]
  },
  {
   "cell_type": "markdown",
   "metadata": {
    "application/vnd.databricks.v1+cell": {
     "cellMetadata": {
      "byteLimit": 2048000,
      "rowLimit": 10000
     },
     "inputWidgets": {},
     "nuid": "685e92a7-9c47-4ebb-8974-02bf064372a6",
     "showTitle": false,
     "tableResultSettingsMap": {},
     "title": ""
    }
   },
   "source": [
    "## b) Faça uma análise de viabilidade financeira dessa iniciativa como alavanca de crescimento, adotando as premissas que julgar necessárias (explicite as premissas adotadas)."
   ]
  },
  {
   "cell_type": "markdown",
   "metadata": {
    "application/vnd.databricks.v1+cell": {
     "cellMetadata": {
      "byteLimit": 2048000,
      "rowLimit": 10000
     },
     "inputWidgets": {},
     "nuid": "1295c5da-ecb3-4454-b123-9caecc2aeb97",
     "showTitle": false,
     "tableResultSettingsMap": {},
     "title": ""
    }
   },
   "source": [
    "### Premissas"
   ]
  },
  {
   "cell_type": "markdown",
   "metadata": {
    "application/vnd.databricks.v1+cell": {
     "cellMetadata": {
      "byteLimit": 2048000,
      "rowLimit": 10000
     },
     "inputWidgets": {},
     "nuid": "28b68e9e-5a06-42df-bdda-8a5b70d74429",
     "showTitle": false,
     "tableResultSettingsMap": {},
     "title": ""
    }
   },
   "source": [
    "Como não foram informados os valores dos cupons, em quais compras eles foram aplicados e nem quantos cupons foram distribuídos para cada usuário do grupo target, serão feitas algumas premissas para permitir a análise de viabilidade financeira:\n",
    "\n",
    "- O **cupom deu um desconto de R$ 10,00** quando aplicado a alguma compra feita pelos usuários do grupo target;\n",
    "- Cada usuário do grupo target **recebeu apenas 1 cupom** e ele foi usado na primeira compra feita nesse período analisado;\n",
    "- A receita incremental trazida pela ação dos cupons pode ser calculado como:\n",
    "  - receita_total_incremental = (ticket_medio_por_usuario_target - ticket_medio_por_usuario_controle) * quantidade_usuarios_target_com_alguma_compra\n",
    "- O custo total da campanha pode ser calculado como R$ 10,00 vezes a quantidade de usuários target que fizeram pelo menos uma compra no período:\n",
    "  - custo_total_campanha = 10 * quantidade_usuarios_target_com_alguma_compra\n",
    "- O **ROI (Retorno sobre o investimento)** para a ação pode ser calculado como:\n",
    "  - ROI = (receita_total_incremental - custo_total_campanha) / custo_total_campanha"
   ]
  },
  {
   "cell_type": "code",
   "execution_count": 0,
   "metadata": {
    "application/vnd.databricks.v1+cell": {
     "cellMetadata": {
      "byteLimit": 2048000,
      "rowLimit": 10000
     },
     "inputWidgets": {},
     "nuid": "10b231d6-ae94-47c9-8076-ea7709359d5b",
     "showTitle": false,
     "tableResultSettingsMap": {},
     "title": ""
    }
   },
   "outputs": [],
   "source": [
    "# Parâmetros conhecidos\n",
    "ticket_medio_usuario_target = ticket_medio.loc[ticket_medio.is_target == \"target\", \"ticket_medio_por_usuario\"].iloc[0]\n",
    "ticket_medio_usuario_controle = ticket_medio.loc[ticket_medio.is_target == \"control\", \"ticket_medio_por_usuario\"].iloc[0]\n",
    "quantidade_usuarios_target_com_compra = ticket_medio.loc[ticket_medio.is_target == \"target\", \"quantidade_total_usuarios\"].iloc[0]\n",
    "\n",
    "# Cálculo da receita incremental total\n",
    "receita_incremental = (ticket_medio_usuario_target - ticket_medio_usuario_controle) * quantidade_usuarios_target_com_compra\n",
    "\n",
    "print(f\"Receita total incremental estimada: R$ {receita_incremental:,.2f}\".replace(\".\", \"|\").replace(\",\", \".\").replace(\"|\", \",\"))\n"
   ]
  },
  {
   "cell_type": "code",
   "execution_count": 0,
   "metadata": {
    "application/vnd.databricks.v1+cell": {
     "cellMetadata": {
      "byteLimit": 2048000,
      "rowLimit": 10000
     },
     "inputWidgets": {},
     "nuid": "bdab5fd9-78b3-40a9-a107-13eb5a5304f3",
     "showTitle": false,
     "tableResultSettingsMap": {},
     "title": ""
    }
   },
   "outputs": [],
   "source": [
    "valor_cupom = 10.00\n",
    "# Assume-se que todos os usuários do grupo target que fizeram pelo menos uma compra usaram um cupom\n",
    "custo_total_campanha = valor_cupom * quantidade_usuarios_target_com_compra\n",
    "\n",
    "print(f\"Custo total estimado da campanha: R$ {custo_total_campanha:,.2f}\".replace(\".\", \"|\").replace(\",\", \".\").replace(\"|\", \",\"))\n"
   ]
  },
  {
   "cell_type": "code",
   "execution_count": 0,
   "metadata": {
    "application/vnd.databricks.v1+cell": {
     "cellMetadata": {
      "byteLimit": 2048000,
      "rowLimit": 10000
     },
     "inputWidgets": {},
     "nuid": "063c6f1f-a2e1-4c6a-9681-b8f43c67f142",
     "showTitle": false,
     "tableResultSettingsMap": {},
     "title": ""
    }
   },
   "outputs": [],
   "source": [
    "roi = (receita_incremental - custo_total_campanha) / custo_total_campanha\n",
    "\n",
    "print(f\"ROI estimado da campanha: {roi:.2%}\".replace(\".\", \",\"))\n"
   ]
  },
  {
   "cell_type": "markdown",
   "metadata": {
    "application/vnd.databricks.v1+cell": {
     "cellMetadata": {
      "byteLimit": 2048000,
      "rowLimit": 10000
     },
     "inputWidgets": {},
     "nuid": "134404f5-2ed4-420d-a8ab-211ef06467c4",
     "showTitle": false,
     "tableResultSettingsMap": {},
     "title": ""
    }
   },
   "source": [
    "Apesar do ROI estimado de 160,9% parecer elevado, ele se refere à receita incremental bruta atribuída à campanha, sem considerar custos operacionais adicionais. Ainda assim, o resultado sugere que a ação foi financeiramente vantajosa."
   ]
  },
  {
   "cell_type": "markdown",
   "metadata": {
    "application/vnd.databricks.v1+cell": {
     "cellMetadata": {
      "byteLimit": 2048000,
      "rowLimit": 10000
     },
     "inputWidgets": {},
     "nuid": "e015e9a8-2e13-463a-b4c2-a18af05806ac",
     "showTitle": false,
     "tableResultSettingsMap": {},
     "title": ""
    }
   },
   "source": [
    "**Limitações da análise**\n",
    "\n",
    "Esta análise foi conduzida com base em dados disponíveis apenas no período da campanha e não contou com informações históricas anteriores. Além disso, a avaliação de viabilidade financeira se baseou em premissas simplificadas que foram adotadas devido à ausência de algumas informações-chave.\n",
    "\n",
    "As principais limitações incluem:\n",
    "\n",
    "- **Valor real dos cupons não informado**: adotou-se uma estimativa de R$ 10,00 por cupom, aplicada uma única vez por usuário;\n",
    "- **Frequência e critérios de uso dos cupons desconhecidos**: não há controle sobre em quais pedidos os cupons foram aplicados ou quantos cupons foram efetivamente utilizados por usuário;\n",
    "- **Receita incremental estimada com base no ticket médio por usuário**: essa métrica não reflete diretamente o lucro gerado, pois não desconta custos de operação (ex: comissões de restaurante, logística, marketing, etc.);\n",
    "- **Margem de contribuição não considerada**: a análise foca na receita bruta incremental, sem considerar a margem líquida ou retorno real para o negócio;\n",
    "- **Sem histórico pré-campanha**: não foi possível comparar o comportamento dos usuários antes e depois da campanha;\n",
    "- **Resultados limitados ao curto prazo**: não foi possível mensurar o efeito de longo prazo da ação sobre o ciclo de vida do cliente (LTV).\n",
    "\n",
    "Apesar dessas limitações, os resultados sugerem que a campanha gerou um impacto positivo na retenção e no engajamento dos usuários, com um ROI estimado atrativo mesmo sob premissas conservadoras.\n"
   ]
  },
  {
   "cell_type": "markdown",
   "metadata": {
    "application/vnd.databricks.v1+cell": {
     "cellMetadata": {},
     "inputWidgets": {},
     "nuid": "727bae26-a8b6-4c45-bfbe-957056d1de3f",
     "showTitle": false,
     "tableResultSettingsMap": {},
     "title": ""
    }
   },
   "source": [
    "-----"
   ]
  },
  {
   "cell_type": "markdown",
   "metadata": {
    "application/vnd.databricks.v1+cell": {
     "cellMetadata": {
      "byteLimit": 2048000,
      "rowLimit": 10000
     },
     "inputWidgets": {},
     "nuid": "21294289-4ae9-49db-b8c6-6da18b6c5b2c",
     "showTitle": false,
     "tableResultSettingsMap": {},
     "title": ""
    }
   },
   "source": [
    "2. A criação de segmentações permite agrupar usuários de acordo com características e comportamentos similares, possibilitando criar estratégias direcionadas de acordo com o perfil de cada público, facilitando a personalização e incentivando o engajamento, retenção, além de otimização de recursos. Segmentações de usuários são muito utilizadas pelos times de Data, mas a área em que você atua ainda não tem segmentos bem definidos e cada área de Negócio utiliza conceitos diferentes. Por isso, você precisa:\n",
    "\n",
    "    a) **Definir as segmentações** que fazem sentido especificamente **para o teste A/B** que está analisando.\n",
    "\n",
    "    b) Estabelecer **quais serão os critérios utilizados para cada segmento** sugerido no item a). Utilize os critérios/ferramentas que achar necessários, mas lembre-se de explicar o racional utilizado na criação.\n",
    "\n",
    "    c) Analisar os **resultados do teste A/B com base nos segmentos** definidos nos itens a) e b)."
   ]
  },
  {
   "cell_type": "markdown",
   "metadata": {
    "application/vnd.databricks.v1+cell": {
     "cellMetadata": {},
     "inputWidgets": {},
     "nuid": "ac0307e0-aab2-4e5a-a944-ad25cb90f1f1",
     "showTitle": false,
     "tableResultSettingsMap": {},
     "title": ""
    }
   },
   "source": [
    "## a) **Definir as segmentações** que fazem sentido especificamente **para o teste A/B** que está analisando.\n",
    "## b) Estabelecer quais serão os critérios utilizados para cada segmento sugerido no item a). Utilize os critérios/ferramentas que achar necessários, mas lembre-se de explicar o racional utilizado na criação."
   ]
  },
  {
   "cell_type": "markdown",
   "metadata": {
    "application/vnd.databricks.v1+cell": {
     "cellMetadata": {},
     "inputWidgets": {},
     "nuid": "3ad3c895-b881-4b2e-9339-d7273611fd53",
     "showTitle": false,
     "tableResultSettingsMap": {},
     "title": ""
    }
   },
   "source": [
    "Considerando os dados disponibilizados para a análise dessa campanha de cupons, pode-se segmentar os clientes da seguinte forma:\n",
    "\n",
    "- **Intensidade de uso da plataforma (quantidade de pedidos por usuário):**  \n",
    "  Usuários com diferentes níveis de engajamento podem responder de forma distinta à oferta de cupons. Para essa análise, os usuários podem ser segmentados com base no número de pedidos realizados durante o período avaliado, utilizando os seguintes grupos:\n",
    "  - **Baixo uso:** 1 pedido\n",
    "  - **Uso moderado:** 2 a 5 pedidos\n",
    "  - **Alto uso:** mais de 5 pedidos\n",
    "\n",
    "- **Ticket médio por compra do usuário:**  \n",
    "  Essa segmentação ajuda a identificar se o cupom teve maior impacto entre consumidores com diferentes padrões de gasto. Será calculado o ticket médio de cada usuário e eles serão separados em três faixas:\n",
    "  - **Baixo ticket:** usuários no tercil inferior (até o 33º percentil)\n",
    "  - **Médio ticket:** usuários entre o 34º e o 66º percentil\n",
    "  - **Alto ticket:** usuários acima do 66º percentil\n",
    "\n",
    "- **Estado (UF) do pedido:**  \n",
    "  A geolocalização pode influenciar o comportamento de consumo, seja por variações regionais na renda, oferta de restaurantes, ou estratégias de marketing local. Agrupar os usuários por unidade federativa permite observar se tiveram diferenças relevantes no desempenho da campanha entre regiões.\n",
    "\n",
    "- **Plataforma onde foi feito o pedido:**  \n",
    "  Usuários de diferentes plataformas (Android, iOS, Windows Phone, Desktop) podem apresentar perfis e hábitos distintos. A segmentação com base na variável `origin_platform` permite avaliar se a campanha teve maior impacto em alguma plataforma específica.\n",
    "\n",
    "Essas segmentações permitem não apenas analisar o efeito do cupom em diferentes perfis, mas também embasam decisões futuras sobre personalização e direcionamento de campanhas de incentivo.\n"
   ]
  },
  {
   "cell_type": "markdown",
   "metadata": {
    "application/vnd.databricks.v1+cell": {
     "cellMetadata": {},
     "inputWidgets": {},
     "nuid": "41f64db8-72f8-4a0f-83e4-1cadf5f3fce1",
     "showTitle": false,
     "tableResultSettingsMap": {},
     "title": ""
    }
   },
   "source": [
    "## c) Analisar os **resultados do teste A/B com base nos segmentos** definidos nos itens a) e b)."
   ]
  },
  {
   "cell_type": "markdown",
   "metadata": {
    "application/vnd.databricks.v1+cell": {
     "cellMetadata": {},
     "inputWidgets": {},
     "nuid": "c32fb1bd-5926-4645-8278-8ca5d9d8e2fb",
     "showTitle": false,
     "tableResultSettingsMap": {},
     "title": ""
    }
   },
   "source": [
    "### Intensidade de uso da plataforma"
   ]
  },
  {
   "cell_type": "code",
   "execution_count": 0,
   "metadata": {
    "application/vnd.databricks.v1+cell": {
     "cellMetadata": {
      "byteLimit": 2048000,
      "rowLimit": 10000
     },
     "inputWidgets": {},
     "nuid": "7b1a04ce-89ad-4f78-ba2c-54fff3a93f87",
     "showTitle": false,
     "tableResultSettingsMap": {},
     "title": ""
    }
   },
   "outputs": [],
   "source": [
    "query_segmentacao_uso = \"\"\"\n",
    "WITH pedidos_por_usuario AS (\n",
    "    SELECT\n",
    "        p.customer_id,\n",
    "        ab.is_target,\n",
    "        COUNT(p.order_id) AS quantidade_pedidos,\n",
    "        SUM(p.order_total_amount) AS valor_total_pedidos\n",
    "    FROM\n",
    "        vw_pedidos AS p\n",
    "    JOIN\n",
    "        vw_usuarios_teste_ab AS ab ON\n",
    "            p.customer_id = ab.customer_id\n",
    "    GROUP BY\n",
    "        p.customer_id,\n",
    "        ab.is_target\n",
    "),\n",
    "\n",
    "usuarios_com_categoria AS (\n",
    "    SELECT\n",
    "        *,\n",
    "        CASE\n",
    "            WHEN quantidade_pedidos = 1 THEN '1) baixo uso'\n",
    "            WHEN quantidade_pedidos BETWEEN 2 AND 5 THEN '2) uso moderado'\n",
    "            ELSE '3) alto uso'\n",
    "        END AS categoria_uso\n",
    "    FROM\n",
    "        pedidos_por_usuario\n",
    "),\n",
    "\n",
    "agregado_por_categoria AS (\n",
    "    SELECT\n",
    "        categoria_uso,\n",
    "        is_target,\n",
    "        COUNT(*) AS quantidade_total_usuarios,\n",
    "        SUM(quantidade_pedidos) AS quantidade_total_pedidos,\n",
    "        ROUND(SUM(quantidade_pedidos) * 1.0 / COUNT(*), 2) AS pedidos_medios_por_usuario,\n",
    "        ROUND(SUM(valor_total_pedidos) / COUNT(*), 2) AS ticket_medio_por_usuario,\n",
    "        ROUND(SUM(valor_total_pedidos) / SUM(quantidade_pedidos), 2) AS ticket_medio_por_pedido\n",
    "    FROM\n",
    "        usuarios_com_categoria\n",
    "    GROUP BY\n",
    "        categoria_uso,\n",
    "        is_target\n",
    ")\n",
    "\n",
    "SELECT\n",
    "    *\n",
    "FROM\n",
    "    agregado_por_categoria\n",
    "ORDER BY\n",
    "    categoria_uso,\n",
    "    is_target\n",
    "\"\"\"\n",
    "\n",
    "df_segmentacao_uso = spark.sql(query_segmentacao_uso)\n",
    "\n",
    "display(df_segmentacao_uso)\n"
   ]
  },
  {
   "cell_type": "code",
   "execution_count": 0,
   "metadata": {
    "application/vnd.databricks.v1+cell": {
     "cellMetadata": {
      "byteLimit": 2048000,
      "rowLimit": 10000
     },
     "inputWidgets": {},
     "nuid": "a47ecca7-163f-4556-867a-eb5013c3007b",
     "showTitle": false,
     "tableResultSettingsMap": {},
     "title": ""
    }
   },
   "outputs": [],
   "source": [
    "# Converte o dataframe completo de uso para Pandas (caso ainda não tenha feito)\n",
    "df_uso = df_segmentacao_uso.toPandas()\n",
    "\n",
    "# Separa os dados de target e controle\n",
    "df_target = df_uso[df_uso['is_target'] == 'target'].copy()\n",
    "df_control = df_uso[df_uso['is_target'] == 'control'][['categoria_uso', 'ticket_medio_por_usuario']].copy()\n",
    "df_control = df_control.rename(columns={'ticket_medio_por_usuario': 'ticket_medio_controle'})\n",
    "\n",
    "# Junta os dados pelo segmento de uso\n",
    "df_roi = df_target.merge(df_control, on='categoria_uso', how='left')\n",
    "\n",
    "# Calcula receita incremental por usuário dentro do segmento\n",
    "df_roi['receita_incremental_por_usuario'] = df_roi['ticket_medio_por_usuario'] - df_roi['ticket_medio_controle']\n",
    "\n",
    "# Receita total incremental = receita incremental por usuário × número de usuários target\n",
    "df_roi['receita_total_incremental'] = df_roi['receita_incremental_por_usuario'] * df_roi['quantidade_total_usuarios']\n",
    "\n",
    "# Custo da campanha = R$ 10 × número de usuários target\n",
    "df_roi['custo_total_campanha'] = 10 * df_roi['quantidade_total_usuarios']\n",
    "\n",
    "# ROI = (receita - custo) / custo\n",
    "df_roi['roi'] = (df_roi['receita_total_incremental'] - df_roi['custo_total_campanha']) / df_roi['custo_total_campanha']\n",
    "\n",
    "# ROI formatado como percentual legível\n",
    "df_roi['roi_formatado'] = df_roi['roi'].apply(lambda x: f\"{x:+.1%}\")\n",
    "\n",
    "# Exibe resultado final\n",
    "display(df_roi[['categoria_uso', 'quantidade_total_usuarios', 'ticket_medio_por_usuario',\n",
    "                'ticket_medio_controle', 'receita_total_incremental',\n",
    "                'custo_total_campanha', 'roi_formatado']])\n"
   ]
  },
  {
   "cell_type": "markdown",
   "metadata": {
    "application/vnd.databricks.v1+cell": {
     "cellMetadata": {},
     "inputWidgets": {},
     "nuid": "6eabf1e3-7c92-4256-9d17-d9bed8006a00",
     "showTitle": false,
     "tableResultSettingsMap": {},
     "title": ""
    }
   },
   "source": [
    "Apesar do ROI total positivo da campanha, ao segmentar os usuários por nível de engajamento, observamos que **em nenhuma faixa o cupom gerou retorno financeiro suficiente para cobrir seu custo**. Isso sugere que o ganho agregado da campanha se deveu ao aumento no volume de usuários que realizaram pedidos, e não ao aumento no ticket médio ou no comportamento de compra individual."
   ]
  },
  {
   "cell_type": "markdown",
   "metadata": {
    "application/vnd.databricks.v1+cell": {
     "cellMetadata": {},
     "inputWidgets": {},
     "nuid": "310356f0-3f2a-45f0-b122-af9c249665d9",
     "showTitle": false,
     "tableResultSettingsMap": {},
     "title": ""
    }
   },
   "source": [
    "### Ticket médio por compra do usuário"
   ]
  },
  {
   "cell_type": "code",
   "execution_count": 0,
   "metadata": {
    "application/vnd.databricks.v1+cell": {
     "cellMetadata": {
      "byteLimit": 2048000,
      "rowLimit": 10000
     },
     "inputWidgets": {},
     "nuid": "9bae9b63-cd44-4535-8d51-9811a9b11e37",
     "showTitle": false,
     "tableResultSettingsMap": {},
     "title": ""
    }
   },
   "outputs": [],
   "source": [
    "query_segmentacao_ticket_medio = \"\"\"\n",
    "WITH pedidos_por_usuario AS (\n",
    "    SELECT\n",
    "        p.customer_id,\n",
    "        ab.is_target,\n",
    "        COUNT(p.order_id) AS quantidade_pedidos,\n",
    "        SUM(p.order_total_amount) AS valor_total_pedidos,\n",
    "        ROUND(SUM(p.order_total_amount) / COUNT(p.order_id), 2) AS ticket_medio_por_compra\n",
    "    FROM\n",
    "        vw_pedidos AS p\n",
    "    JOIN\n",
    "        vw_usuarios_teste_ab AS ab ON\n",
    "            p.customer_id = ab.customer_id\n",
    "    GROUP BY\n",
    "        p.customer_id,\n",
    "        ab.is_target\n",
    "),\n",
    "\n",
    "usuarios_com_tercil AS (\n",
    "    SELECT\n",
    "        *,\n",
    "        NTILE(3) OVER (ORDER BY ticket_medio_por_compra) AS tercil_ticket\n",
    "    FROM\n",
    "        pedidos_por_usuario\n",
    "),\n",
    "\n",
    "usuarios_com_categoria AS (\n",
    "    SELECT\n",
    "        *,\n",
    "        CASE\n",
    "            WHEN tercil_ticket = 1 THEN '1) baixo ticket'\n",
    "            WHEN tercil_ticket = 2 THEN '2) ticket médio'\n",
    "            ELSE '3) alto ticket'\n",
    "        END AS categoria_ticket\n",
    "    FROM\n",
    "        usuarios_com_tercil\n",
    "),\n",
    "\n",
    "agregado_por_categoria AS (\n",
    "    SELECT\n",
    "        categoria_ticket,\n",
    "        is_target,\n",
    "        COUNT(*) AS quantidade_total_usuarios,\n",
    "        SUM(quantidade_pedidos) AS quantidade_total_pedidos,\n",
    "        ROUND(SUM(quantidade_pedidos) * 1.0 / COUNT(*), 2) AS pedidos_medios_por_usuario,\n",
    "        ROUND(SUM(valor_total_pedidos) / COUNT(*), 2) AS ticket_medio_por_usuario,\n",
    "        ROUND(SUM(valor_total_pedidos) / SUM(quantidade_pedidos), 2) AS ticket_medio_por_pedido\n",
    "    FROM\n",
    "        usuarios_com_categoria\n",
    "    GROUP BY\n",
    "        categoria_ticket,\n",
    "        is_target\n",
    ")\n",
    "\n",
    "SELECT\n",
    "    *\n",
    "FROM\n",
    "    agregado_por_categoria\n",
    "ORDER BY\n",
    "    categoria_ticket,\n",
    "    is_target\n",
    "\"\"\"\n",
    "\n",
    "df_segmentacao_ticket_medio = spark.sql(query_segmentacao_ticket_medio)\n",
    "\n",
    "display(df_segmentacao_ticket_medio)"
   ]
  },
  {
   "cell_type": "code",
   "execution_count": 0,
   "metadata": {
    "application/vnd.databricks.v1+cell": {
     "cellMetadata": {
      "byteLimit": 2048000,
      "rowLimit": 10000
     },
     "inputWidgets": {},
     "nuid": "e8090f3e-4443-4f32-bd86-27ab173d21b1",
     "showTitle": false,
     "tableResultSettingsMap": {},
     "title": ""
    }
   },
   "outputs": [],
   "source": [
    "# Converte o DataFrame completo da segmentação para Pandas\n",
    "df_uso = df_segmentacao_ticket_medio.toPandas()\n",
    "\n",
    "# Separa os dados de target e controle\n",
    "df_target = df_uso[df_uso['is_target'] == 'target'].copy()\n",
    "df_control = df_uso[df_uso['is_target'] == 'control'][['categoria_ticket', 'ticket_medio_por_usuario']].copy()\n",
    "df_control = df_control.rename(columns={'ticket_medio_por_usuario': 'ticket_medio_controle'})\n",
    "\n",
    "# Junta os dados pelo segmento de ticket\n",
    "df_roi = df_target.merge(df_control, on='categoria_ticket', how='left')\n",
    "\n",
    "# Calcula receita incremental por usuário\n",
    "df_roi['receita_incremental_por_usuario'] = df_roi['ticket_medio_por_usuario'] - df_roi['ticket_medio_controle']\n",
    "\n",
    "# Receita total incremental\n",
    "df_roi['receita_total_incremental'] = df_roi['receita_incremental_por_usuario'] * df_roi['quantidade_total_usuarios']\n",
    "\n",
    "# Custo da campanha (R$ 10 por usuário)\n",
    "df_roi['custo_total_campanha'] = 10 * df_roi['quantidade_total_usuarios']\n",
    "\n",
    "# ROI bruto\n",
    "df_roi['roi'] = (df_roi['receita_total_incremental'] - df_roi['custo_total_campanha']) / df_roi['custo_total_campanha']\n",
    "\n",
    "# ROI formatado\n",
    "df_roi['roi_formatado'] = df_roi['roi'].apply(lambda x: f\"{x:+.1%}\")\n",
    "\n",
    "# Exibe resultado final\n",
    "display(df_roi[['categoria_ticket', 'quantidade_total_usuarios', 'ticket_medio_por_usuario',\n",
    "                'ticket_medio_controle', 'receita_total_incremental',\n",
    "                'custo_total_campanha', 'roi_formatado']])\n"
   ]
  },
  {
   "cell_type": "markdown",
   "metadata": {
    "application/vnd.databricks.v1+cell": {
     "cellMetadata": {},
     "inputWidgets": {},
     "nuid": "963e5927-52c3-4427-8e1f-94e39229e0df",
     "showTitle": false,
     "tableResultSettingsMap": {},
     "title": ""
    }
   },
   "source": [
    "Ao segmentar os usuários pelo ticket médio por compra, observamos que quanto maior o padrão de gasto do cliente, maior o retorno gerado pelo cupom. Isso sugere que a personalização das campanhas com base em comportamento de consumo pode aumentar significativamente a eficiência financeira das ações promocionais."
   ]
  },
  {
   "cell_type": "markdown",
   "metadata": {
    "application/vnd.databricks.v1+cell": {
     "cellMetadata": {},
     "inputWidgets": {},
     "nuid": "10bab64a-d580-45af-b780-95f84eab8bf7",
     "showTitle": false,
     "tableResultSettingsMap": {},
     "title": ""
    }
   },
   "source": [
    "### Estado (UF) do pedido"
   ]
  },
  {
   "cell_type": "code",
   "execution_count": 0,
   "metadata": {
    "application/vnd.databricks.v1+cell": {
     "cellMetadata": {
      "byteLimit": 2048000,
      "rowLimit": 10000
     },
     "inputWidgets": {},
     "nuid": "cf8f63e4-440e-4a43-9670-86e714f8d04c",
     "showTitle": false,
     "tableResultSettingsMap": {},
     "title": ""
    }
   },
   "outputs": [],
   "source": [
    "query_segmentacao_uf = \"\"\"\n",
    "WITH pedidos_por_usuario AS (\n",
    "    SELECT\n",
    "        p.customer_id,\n",
    "        ab.is_target,\n",
    "        p.delivery_address_state AS uf,\n",
    "        COUNT(p.order_id) AS quantidade_pedidos,\n",
    "        SUM(p.order_total_amount) AS valor_total_pedidos\n",
    "    FROM\n",
    "        vw_pedidos AS p\n",
    "    JOIN\n",
    "        vw_usuarios_teste_ab AS ab ON\n",
    "            p.customer_id = ab.customer_id\n",
    "    GROUP BY\n",
    "        p.customer_id,\n",
    "        ab.is_target,\n",
    "        p.delivery_address_state\n",
    "),\n",
    "\n",
    "agregado_por_uf AS (\n",
    "    SELECT\n",
    "        uf,\n",
    "        is_target,\n",
    "        COUNT(*) AS quantidade_total_usuarios,\n",
    "        SUM(quantidade_pedidos) AS quantidade_total_pedidos,\n",
    "        ROUND(SUM(quantidade_pedidos) * 1.0 / COUNT(*), 2) AS pedidos_medios_por_usuario,\n",
    "        ROUND(SUM(valor_total_pedidos) / COUNT(*), 2) AS ticket_medio_por_usuario,\n",
    "        ROUND(SUM(valor_total_pedidos) / SUM(quantidade_pedidos), 2) AS ticket_medio_por_pedido\n",
    "    FROM\n",
    "        pedidos_por_usuario\n",
    "    GROUP BY\n",
    "        uf,\n",
    "        is_target\n",
    ")\n",
    "\n",
    "SELECT\n",
    "    *\n",
    "FROM\n",
    "    agregado_por_uf\n",
    "ORDER BY\n",
    "    uf,\n",
    "    is_target\n",
    "\"\"\"\n",
    "\n",
    "df_segmentacao_uf = spark.sql(query_segmentacao_uf)\n",
    "\n",
    "display(df_segmentacao_uf)"
   ]
  },
  {
   "cell_type": "code",
   "execution_count": 0,
   "metadata": {
    "application/vnd.databricks.v1+cell": {
     "cellMetadata": {
      "byteLimit": 2048000,
      "rowLimit": 10000
     },
     "inputWidgets": {},
     "nuid": "693cf1ff-4ff3-435d-b7e3-6d16ee833b3a",
     "showTitle": false,
     "tableResultSettingsMap": {},
     "title": ""
    }
   },
   "outputs": [],
   "source": [
    "# Converte o DataFrame de segmentação por UF para Pandas\n",
    "df_uf = df_segmentacao_uf.toPandas()\n",
    "\n",
    "# Separa os dados de target e controle\n",
    "df_target = df_uf[df_uf['is_target'] == 'target'].copy()\n",
    "df_control = df_uf[df_uf['is_target'] == 'control'][['uf', 'ticket_medio_por_usuario']].copy()\n",
    "df_control = df_control.rename(columns={'ticket_medio_por_usuario': 'ticket_medio_controle'})\n",
    "\n",
    "# Junta os dados pelo estado\n",
    "df_roi = df_target.merge(df_control, on='uf', how='left')\n",
    "\n",
    "# Receita incremental por usuário\n",
    "df_roi['receita_incremental_por_usuario'] = df_roi['ticket_medio_por_usuario'] - df_roi['ticket_medio_controle']\n",
    "\n",
    "# Receita total incremental\n",
    "df_roi['receita_total_incremental'] = df_roi['receita_incremental_por_usuario'] * df_roi['quantidade_total_usuarios']\n",
    "\n",
    "# Custo da campanha = R$ 10 por usuário target\n",
    "df_roi['custo_total_campanha'] = 10 * df_roi['quantidade_total_usuarios']\n",
    "\n",
    "# ROI bruto\n",
    "df_roi['roi'] = (df_roi['receita_total_incremental'] - df_roi['custo_total_campanha']) / df_roi['custo_total_campanha']\n",
    "\n",
    "# ROI formatado\n",
    "df_roi['roi_formatado'] = df_roi['roi'].apply(lambda x: f\"{x:+.1%}\")\n",
    "\n",
    "# Exibe resultado final\n",
    "display(df_roi[['uf', 'quantidade_total_usuarios', 'ticket_medio_por_usuario',\n",
    "                'ticket_medio_controle', 'receita_total_incremental',\n",
    "                'custo_total_campanha', 'roi_formatado']])\n"
   ]
  },
  {
   "cell_type": "markdown",
   "metadata": {
    "application/vnd.databricks.v1+cell": {
     "cellMetadata": {},
     "inputWidgets": {},
     "nuid": "051ff5d9-26ab-4e4b-a1cf-e7748e7eb0b4",
     "showTitle": false,
     "tableResultSettingsMap": {},
     "title": ""
    }
   },
   "source": [
    "A análise por estado mostra que a campanha foi altamente rentável nos maiores centros urbanos, com ROI superior a 150% em SP, RJ e DF. Estados do Nordeste também responderam bem. Em contrapartida, regiões como SC, MA e PI apresentaram ROI negativo, indicando a necessidade de ajustes regionais na estratégia de incentivos."
   ]
  },
  {
   "cell_type": "markdown",
   "metadata": {
    "application/vnd.databricks.v1+cell": {
     "cellMetadata": {},
     "inputWidgets": {},
     "nuid": "ca3d3739-bee5-4869-96bc-fa4282152a08",
     "showTitle": false,
     "tableResultSettingsMap": {},
     "title": ""
    }
   },
   "source": [
    "### Plataforma onde foi feito o pedido"
   ]
  },
  {
   "cell_type": "code",
   "execution_count": 0,
   "metadata": {
    "application/vnd.databricks.v1+cell": {
     "cellMetadata": {
      "byteLimit": 2048000,
      "rowLimit": 10000
     },
     "inputWidgets": {},
     "nuid": "4432cf4f-1618-4ed2-9ae2-957facd7b37d",
     "showTitle": false,
     "tableResultSettingsMap": {},
     "title": ""
    }
   },
   "outputs": [],
   "source": [
    "query_segmentacao_plataforma = \"\"\"\n",
    "WITH pedidos_por_usuario AS (\n",
    "    SELECT\n",
    "        p.customer_id,\n",
    "        ab.is_target,\n",
    "        p.origin_platform,\n",
    "        COUNT(p.order_id) AS quantidade_pedidos,\n",
    "        SUM(p.order_total_amount) AS valor_total_pedidos\n",
    "    FROM\n",
    "        vw_pedidos AS p\n",
    "    JOIN\n",
    "        vw_usuarios_teste_ab AS ab ON\n",
    "            p.customer_id = ab.customer_id\n",
    "    WHERE\n",
    "        p.origin_platform IS NOT NULL\n",
    "    GROUP BY\n",
    "        p.customer_id,\n",
    "        ab.is_target,\n",
    "        p.origin_platform\n",
    "),\n",
    "\n",
    "agregado_por_plataforma AS (\n",
    "    SELECT\n",
    "        origin_platform,\n",
    "        is_target,\n",
    "        COUNT(*) AS quantidade_total_usuarios,\n",
    "        SUM(quantidade_pedidos) AS quantidade_total_pedidos,\n",
    "        ROUND(SUM(quantidade_pedidos) * 1.0 / COUNT(*), 2) AS pedidos_medios_por_usuario,\n",
    "        ROUND(SUM(valor_total_pedidos) / COUNT(*), 2) AS ticket_medio_por_usuario,\n",
    "        ROUND(SUM(valor_total_pedidos) / SUM(quantidade_pedidos), 2) AS ticket_medio_por_pedido\n",
    "    FROM\n",
    "        pedidos_por_usuario\n",
    "    GROUP BY\n",
    "        origin_platform,\n",
    "        is_target\n",
    ")\n",
    "\n",
    "SELECT\n",
    "    *\n",
    "FROM\n",
    "    agregado_por_plataforma\n",
    "ORDER BY\n",
    "    origin_platform,\n",
    "    is_target\n",
    "\"\"\"\n",
    "\n",
    "df_segmentacao_plataforma = spark.sql(query_segmentacao_plataforma)\n",
    "\n",
    "display(df_segmentacao_plataforma)"
   ]
  },
  {
   "cell_type": "code",
   "execution_count": 0,
   "metadata": {
    "application/vnd.databricks.v1+cell": {
     "cellMetadata": {
      "byteLimit": 2048000,
      "rowLimit": 10000
     },
     "inputWidgets": {},
     "nuid": "e634069e-4ece-44e4-bf5a-83e6a6ee6ae2",
     "showTitle": false,
     "tableResultSettingsMap": {},
     "title": ""
    }
   },
   "outputs": [],
   "source": [
    "# Converte o DataFrame para Pandas (caso ainda não esteja)\n",
    "df_uso = df_segmentacao_plataforma.toPandas()\n",
    "\n",
    "# Separa dados de target e controle\n",
    "df_target = df_uso[df_uso['is_target'] == 'target'].copy()\n",
    "df_control = df_uso[df_uso['is_target'] == 'control'][['origin_platform', 'ticket_medio_por_usuario']].copy()\n",
    "df_control = df_control.rename(columns={'ticket_medio_por_usuario': 'ticket_medio_controle'})\n",
    "\n",
    "# Junta target com controle por plataforma\n",
    "df_roi = df_target.merge(df_control, on='origin_platform', how='left')\n",
    "\n",
    "# Receita incremental por usuário\n",
    "df_roi['receita_incremental_por_usuario'] = df_roi['ticket_medio_por_usuario'] - df_roi['ticket_medio_controle']\n",
    "\n",
    "# Receita total incremental\n",
    "df_roi['receita_total_incremental'] = df_roi['receita_incremental_por_usuario'] * df_roi['quantidade_total_usuarios']\n",
    "\n",
    "# Custo da campanha (R$ 10 por usuário target)\n",
    "df_roi['custo_total_campanha'] = 10 * df_roi['quantidade_total_usuarios']\n",
    "\n",
    "# ROI bruto\n",
    "df_roi['roi'] = (df_roi['receita_total_incremental'] - df_roi['custo_total_campanha']) / df_roi['custo_total_campanha']\n",
    "\n",
    "# ROI formatado\n",
    "df_roi['roi_formatado'] = df_roi['roi'].apply(lambda x: f\"{x:+.1%}\")\n",
    "\n",
    "# Exibe resultado final\n",
    "display(df_roi[['origin_platform', 'quantidade_total_usuarios', 'ticket_medio_por_usuario',\n",
    "                'ticket_medio_controle', 'receita_total_incremental',\n",
    "                'custo_total_campanha', 'roi_formatado']])\n"
   ]
  },
  {
   "cell_type": "markdown",
   "metadata": {
    "application/vnd.databricks.v1+cell": {
     "cellMetadata": {},
     "inputWidgets": {},
     "nuid": "9ed6f897-b2bb-4271-a8df-0fa77415cee6",
     "showTitle": false,
     "tableResultSettingsMap": {},
     "title": ""
    }
   },
   "source": [
    "A análise por plataforma de origem revelou que a campanha apresentou os melhores resultados financeiros entre os usuários de iOS e desktop, com ROIs de +166,5% e +116,0%, respectivamente. Esses canais não apenas demonstraram maior engajamento, como também ticket médio superior ao grupo controle, indicando maior propensão ao consumo com incentivo. \n",
    "\n",
    "Usuários de Android também responderam positivamente à campanha, embora com retorno mais modesto (+89,4%), sugerindo espaço para estratégias específicas de ativação ou diferenciação no valor do cupom. \n",
    "\n",
    "Já usuários de Windows Phone, além de representarem uma base pouco expressiva, tiveram ROI significativamente mais baixo (+22,8%), o que indica que esse público pode ser excluído ou receber incentivos mais restritos em ações futuras."
   ]
  },
  {
   "cell_type": "markdown",
   "metadata": {
    "application/vnd.databricks.v1+cell": {
     "cellMetadata": {},
     "inputWidgets": {},
     "nuid": "f7c568bf-9ffc-4700-a6bf-dcef155b8b44",
     "showTitle": false,
     "tableResultSettingsMap": {},
     "title": ""
    }
   },
   "source": [
    "As segmentações realizadas permitiram identificar perfis de usuários com diferentes níveis de resposta à campanha de cupons. Usuários com maior intensidade de uso e ticket médio mais alto foram os que apresentaram maior retorno sobre o investimento, confirmando que clientes mais engajados respondem melhor a incentivos. Na análise geográfica, os grandes centros urbanos como SP, RJ e DF se destacaram, com elevado ROI e grande base de usuários, evidenciando maior maturidade e aderência ao canal. Por fim, a segmentação por plataforma mostrou que iOS e desktop são canais especialmente rentáveis, com desempenho superior ao Android e Windows Phone. Esses resultados reforçam a importância de direcionar campanhas com base em comportamento e perfil de consumo, otimizando o uso de recursos e maximizando retorno."
   ]
  },
  {
   "cell_type": "markdown",
   "metadata": {
    "application/vnd.databricks.v1+cell": {
     "cellMetadata": {},
     "inputWidgets": {},
     "nuid": "d0ffd82e-eaa0-455f-9301-c1b6dd658c3f",
     "showTitle": false,
     "tableResultSettingsMap": {},
     "title": ""
    }
   },
   "source": [
    "-----"
   ]
  },
  {
   "cell_type": "markdown",
   "metadata": {
    "application/vnd.databricks.v1+cell": {
     "cellMetadata": {
      "byteLimit": 2048000,
      "rowLimit": 10000
     },
     "inputWidgets": {},
     "nuid": "8475ae4e-d129-4cb9-a284-dca4f455d0d9",
     "showTitle": false,
     "tableResultSettingsMap": {},
     "title": ""
    }
   },
   "source": [
    "3. Com base na análise que realizou nas questões 1 e 2, **sugira os próximos passos que o iFood deve tomar**. Lembre-se que você precisa defender suas sugestões para as lideranças de Negócio, por isso não esqueça de **incluir uma previsão de impacto** (financeiro ou não) caso o iFood siga com a sua recomendação. Fique à vontade para sugerir melhorias no processo/teste e para propor diferentes estratégias de acordo com cada segmento de usuário."
   ]
  },
  {
   "cell_type": "markdown",
   "metadata": {
    "application/vnd.databricks.v1+cell": {
     "cellMetadata": {},
     "inputWidgets": {},
     "nuid": "ff6afeaf-5f7e-4353-8c49-0e31de15a21a",
     "showTitle": false,
     "tableResultSettingsMap": {},
     "title": ""
    }
   },
   "source": [
    "## 3. Próximos passos recomendados para o iFood\n",
    "\n",
    "Com base nas análises realizadas, a campanha de cupons apresentou retorno financeiro positivo no agregado, com ROI de aproximadamente **+160%**, além de impulsionar a retenção e o volume de pedidos. No entanto, segmentações detalhadas revelaram **diferentes níveis de efetividade** entre os perfis de usuários.\n",
    "\n",
    "### 1. Direcionar campanhas futuras para perfis com maior retorno\n",
    "- Priorizar usuários com:\n",
    "  - **Alto ticket médio**\n",
    "  - **Alta frequência de pedidos**\n",
    "  - **Plataforma iOS e desktop**\n",
    "- Nesses grupos, o ROI superou **+140%** e chegou a **+278%** em heavy spenders.\n",
    "- **Previsão de impacto**: manter o investimento nos 50% mais responsivos pode mais que dobrar o retorno da campanha sem aumento de custo.\n",
    "\n",
    "### 2. Reduzir ou eliminar incentivos para segmentos pouco responsivos\n",
    "- Usuários com **baixo uso**, **ticket médio muito baixo** e **plataformas legadas (ex: Windows Phone)** apresentaram ROI abaixo de 0%, chegando a **-100%**.\n",
    "- Estados como **SC, MA e PI** também mostraram ROI negativo.\n",
    "- **Previsão de impacto**: eliminar cupom para esses grupos pode gerar uma economia de até **R$ 1,5 milhão**, sem perda de receita incremental.\n",
    "\n",
    "### 3. Testar valores de cupom personalizados\n",
    "- Usuários Android responderam bem, mas com ROI inferior ao iOS.\n",
    "- Recomenda-se testar **valores escalonados de cupom por segmento**, por exemplo:\n",
    "  - R$ 5 para usuários de ticket baixo\n",
    "  - R$ 10 para ticket médio\n",
    "  - R$ 15 para heavy spenders\n",
    "\n",
    "### 4. Criar réguas de incentivo baseadas em comportamento\n",
    "- A campanha atual foi distribuída de forma uniforme.\n",
    "- Próximo passo: desenvolver modelos de propensão e **aplicar regras de elegibilidade mais inteligentes**, priorizando usuários com maior probabilidade de recompra e ticket elevado.\n",
    "- **Previsão de impacto**: esse ajuste pode elevar o ROI médio da campanha acima de **+200%**, mantendo o mesmo orçamento.\n",
    "\n",
    "### Conclusão\n",
    "\n",
    "A campanha demonstrou sucesso no agregado, mas revelou oportunidades claras de otimização por meio de segmentação. Ao focar nos perfis mais responsivos e evitar investimento em usuários de baixo retorno, o iFood pode dobrar sua eficiência promocional e transformar cupons em uma alavanca ainda mais poderosa de crescimento com sustentabilidade financeira.\n"
   ]
  },
  {
   "cell_type": "markdown",
   "metadata": {
    "application/vnd.databricks.v1+cell": {
     "cellMetadata": {},
     "inputWidgets": {},
     "nuid": "fc909f4c-62e2-4040-82a5-2c18b1a3c7e1",
     "showTitle": false,
     "tableResultSettingsMap": {},
     "title": ""
    }
   },
   "source": [
    "## Sugestões para aprimoramento de futuros testes A/B\n",
    "\n",
    "Com base nos resultados observados nesta campanha e nas segmentações aplicadas, seguem abaixo recomendações para o desenho de novos testes A/B e estratégias promocionais mais precisas e eficazes.\n",
    "\n",
    "### 1. Análise por tipo de restaurante\n",
    "- Incluir a variável de **segmento gastronômico** (ex: pizzarias, hamburguerias, comidas saudáveis) como critério de análise.\n",
    "- Possíveis hipóteses:\n",
    "  - O impacto do cupom pode variar de acordo com o tipo de restaurante.\n",
    "  - Estabelecimentos com ticket médio mais alto (ex: sushi) podem gerar maior retorno com cupons.\n",
    "- A segmentação por categoria também permite que o iFood ofereça **cupons personalizados por vertical**, aumentando a relevância do incentivo.\n",
    "\n",
    "### 2. Análise pré e pós cupom (período de observação anterior)\n",
    "- Avaliar o comportamento do grupo `target` **antes da distribuição dos cupons** e comparar com o período pós-uso:\n",
    "  - Quantidade média de pedidos\n",
    "  - Ticket médio por usuário\n",
    "  - Tempo entre os pedidos\n",
    "- Essa análise permite medir **mudanças reais de comportamento**, fortalecendo a avaliação causal do teste.\n",
    "\n",
    "### 3. Testar diferentes valores e formatos de incentivo\n",
    "- Avaliar o impacto de diferentes tipos de estímulo:\n",
    "  - Desconto fixo (ex: R$ 10)\n",
    "  - Percentual (ex: 20% off)\n",
    "  - Frete grátis\n",
    "  - Cashback escalonado (quanto mais pedidos, maior o retorno)\n",
    "- Esses testes ajudam a entender **qual incentivo é mais eficaz para cada segmento de usuário**.\n",
    "\n",
    "### 4. Personalização com base em comportamento histórico\n",
    "- Utilizar variáveis como:\n",
    "  - Frequência de compra nos últimos 3 meses\n",
    "  - Ticket médio histórico\n",
    "  - Categoria preferida de restaurante\n",
    "- Criar **clusters de comportamento** e aplicar regras de cupom personalizadas para cada grupo.\n",
    "\n",
    "### 5. Análise de efeito de canal de ativação\n",
    "- Medir se o impacto do cupom varia conforme o canal de comunicação:\n",
    "  - Push notification\n",
    "  - E-mail\n",
    "  - Banner in-app\n",
    "- Pode-se realizar testes A/B incluindo a variável **canal de entrega do cupom** para mensurar qual canal gera maior ativação.\n",
    "\n",
    "### 6. Medir o efeito no longo prazo (retenção estendida)\n",
    "- Estender o período de observação além da campanha para entender:\n",
    "  - Quantos usuários continuam ativos 30, 60 ou 90 dias após o uso do cupom.\n",
    "  - Qual foi o LTV incremental por grupo.\n",
    "- Permite calcular o **retorno real ao longo do ciclo de vida do cliente**.\n",
    "\n",
    "### 7. Considerar teste A/B multivariado\n",
    "- Em vez de testar apenas a presença do cupom, testar múltiplas variáveis ao mesmo tempo:\n",
    "  - Tipo de incentivo × valor do cupom × canal de ativação\n",
    "- Com um bom desenho experimental, é possível descobrir **interações entre fatores** que maximizam o engajamento.\n",
    "\n",
    "### Conclusão\n",
    "\n",
    "As sugestões acima permitem que futuros testes A/B no iFood sejam mais granulares, personalizados e orientados a valor. Ao considerar diferentes perfis de usuário, tipos de restaurante, canais e formatos de incentivo, a empresa pode **aumentar significativamente a efetividade das campanhas promocionais**, reduzindo custos e maximizando retenção e receita incremental.\n"
   ]
  }
 ],
 "metadata": {
  "application/vnd.databricks.v1+notebook": {
   "computePreferences": null,
   "dashboards": [],
   "environmentMetadata": {
    "base_environment": "",
    "environment_version": "2"
   },
   "inputWidgetPreferences": null,
   "language": "python",
   "notebookMetadata": {
    "pythonIndentUnit": 4
   },
   "notebookName": "1-analise-teste-ab",
   "widgets": {}
  },
  "language_info": {
   "name": "python"
  }
 },
 "nbformat": 4,
 "nbformat_minor": 0
}
